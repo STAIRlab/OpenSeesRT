{
 "cells": [
  {
   "cell_type": "code",
   "execution_count": 1,
   "id": "bd0f621e-fdba-4263-b2c2-3df6573658fc",
   "metadata": {},
   "outputs": [],
   "source": [
    "from opensees.library import uniaxial\n",
    "from opensees.section import patch, layer, section\n",
    "from opensees.units.english import psi, ksi, pcf, inch, ft\n",
    "import opensees.units.english\n",
    "import numpy as np\n",
    "from math import sqrt"
   ]
  },
  {
   "cell_type": "code",
   "execution_count": 2,
   "id": "280acefb-34e2-4a45-ae62-e7a64bab1d6b",
   "metadata": {},
   "outputs": [],
   "source": [
    "# Linear concrete model\n",
    "fc   = 5.0 * ksi\n",
    "weight = 145 * pcf\n",
    "# nominal concrete compressive strength\n",
    "Ec = 57*ksi*sqrt(fc/psi)   # Concrete Elastic Modulus\n",
    "# unconfined concrete\n",
    "fc1U = fc                  # unconfined concrete maximum stress\n",
    "eps1U = -0.003             # strain at maximum strength of unconfined concrete\n",
    "fc2U = 0.2*fc1U            # ultimate stress\n",
    "eps2U = -0.01              # strain at ultimate stress\n",
    "_lambda = 0.1              # ratio between unloading slope at eps2 and initial slope Ec\n",
    "# tensile-strength properties\n",
    "ftU = 0.10*fc1U            # tensile strength +tension\n",
    "Ets = ftU/0.002            # tension softening stiffness\n",
    "\n",
    "Fy = 66.8*ksi      # yield stress\n",
    "Es = 29000.*ksi    # modulus of steel\n",
    "Bs = 0.005         # strain-hardening ratio \n",
    "R0 = 18            # control transition from elastic to plastic branches\n",
    "cR1 = 0.925        # control transition from elastic to plastic branches\n",
    "cR2 = 0.15         # control transition from elastic to plastic branches\n",
    "reinf = uniaxial.Steel02(Fy, Es, Bs, R0, cR1, cR2)  \n",
    "\n",
    "Ec = 33*(weight/pcf)**1.5*sqrt(fc / psi) * psi\n",
    "\n",
    "\n",
    "# TODO: cover concrete\n",
    "cover_concrete = core_concrete = uniaxial.Concrete02(-fc1U, eps1U,-fc2U, eps2U, _lambda, ftU, Ets)\n",
    "\n",
    "col_cover = (3 + 1/8) * inch\n",
    "core_radius = (5/2*ft - col_cover)\n",
    "\n",
    "column_reinf_section = section.FiberSection(1e6, [    \n",
    "    *section.ConfiningPolygon(8, 5/2*ft, core_radius, s=4, divs=(4,3), material=cover_concrete).patches,\n",
    "    patch.circ(extRad=core_radius, material=core_concrete, divs=(5,4,12), rule=\"uniform-3\"),\n",
    "    layer.circ(radius=core_radius-11/8/2*inch, divs=36, bar=\"11\", material=reinf, units=opensees.units.english)\n",
    "])\n"
   ]
  },
  {
   "cell_type": "code",
   "execution_count": 3,
   "id": "1d4480db-72d9-4411-943e-70d8b4d1f8a0",
   "metadata": {},
   "outputs": [
    {
     "ename": "AttributeError",
     "evalue": "'NoneType' object has no attribute 'getStressResultant'",
     "output_type": "error",
     "traceback": [
      "\u001b[0;31m---------------------------------------------------------------------------\u001b[0m",
      "\u001b[0;31mAttributeError\u001b[0m                            Traceback (most recent call last)",
      "Cell \u001b[0;32mIn[3], line 1\u001b[0m\n\u001b[0;32m----> 1\u001b[0m \u001b[43msection\u001b[49m\u001b[38;5;241;43m.\u001b[39;49m\u001b[43mMomentAxialLocus\u001b[49m\u001b[43m(\u001b[49m\u001b[43mcolumn_reinf_section\u001b[49m\u001b[43m,\u001b[49m\u001b[43m \u001b[49m\u001b[43maxial\u001b[49m\u001b[38;5;241;43m=\u001b[39;49m\u001b[43mnp\u001b[49m\u001b[38;5;241;43m.\u001b[39;49m\u001b[43mlinspace\u001b[49m\u001b[43m(\u001b[49m\u001b[38;5;241;43m1000000\u001b[39;49m\u001b[43m,\u001b[49m\u001b[43m \u001b[49m\u001b[38;5;241;43m-\u001b[39;49m\u001b[38;5;241;43m12000000\u001b[39;49m\u001b[43m,\u001b[49m\u001b[43m \u001b[49m\u001b[38;5;241;43m15\u001b[39;49m\u001b[43m)\u001b[49m\u001b[43m)\u001b[49m\u001b[38;5;241;43m.\u001b[39;49m\u001b[43manalyze\u001b[49m\u001b[43m(\u001b[49m\u001b[43m)\u001b[49m\n",
      "File \u001b[0;32m~/packages/opensees-pypi/src/opensees/section/section.py:435\u001b[0m, in \u001b[0;36mMomentAxialLocus.analyze\u001b[0;34m(self, nstep, incr)\u001b[0m\n\u001b[1;32m    433\u001b[0m \u001b[38;5;28;01mwith\u001b[39;00m sect \u001b[38;5;28;01mas\u001b[39;00m s:\n\u001b[1;32m    434\u001b[0m     k0 \u001b[38;5;241m=\u001b[39m \u001b[38;5;241m0.0\u001b[39m\n\u001b[0;32m--> 435\u001b[0m     e0 \u001b[38;5;241m=\u001b[39m solve_eps(s,  k0,  P,  \u001b[43msolve_eps\u001b[49m\u001b[43m(\u001b[49m\u001b[43ms\u001b[49m\u001b[43m,\u001b[49m\u001b[43m  \u001b[49m\u001b[43mk0\u001b[49m\u001b[43m,\u001b[49m\u001b[43m  \u001b[49m\u001b[43mP\u001b[49m\u001b[43m,\u001b[49m\u001b[43m  \u001b[49m\u001b[38;5;241;43m0.0\u001b[39;49m\u001b[43m)\u001b[49m)\n\u001b[1;32m    436\u001b[0m     PM \u001b[38;5;241m=\u001b[39m [\n\u001b[1;32m    437\u001b[0m         s\u001b[38;5;241m.\u001b[39mgetStressResultant([e0, k0], \u001b[38;5;28;01mTrue\u001b[39;00m),\n\u001b[1;32m    438\u001b[0m         s\u001b[38;5;241m.\u001b[39mgetStressResultant([solve_eps(s, k0\u001b[38;5;241m+\u001b[39mdkap, P, e0), k0\u001b[38;5;241m+\u001b[39mdkap], \u001b[38;5;28;01mTrue\u001b[39;00m),\n\u001b[1;32m    439\u001b[0m     ]\n\u001b[1;32m    440\u001b[0m     e \u001b[38;5;241m=\u001b[39m e0\n",
      "File \u001b[0;32m~/packages/opensees-pypi/src/opensees/section/section.py:396\u001b[0m, in \u001b[0;36mMomentCurvatureAnalysis.solve_eps\u001b[0;34m(sect, kap, axial, eps0, tol, maxiter)\u001b[0m\n\u001b[1;32m    392\u001b[0m \u001b[38;5;129m@staticmethod\u001b[39m\n\u001b[1;32m    393\u001b[0m \u001b[38;5;28;01mdef\u001b[39;00m \u001b[38;5;21msolve_eps\u001b[39m(sect, kap, axial: \u001b[38;5;28mfloat\u001b[39m, eps0, tol\u001b[38;5;241m=\u001b[39m\u001b[38;5;241m1e-6\u001b[39m, maxiter\u001b[38;5;241m=\u001b[39m\u001b[38;5;241m25\u001b[39m):\n\u001b[1;32m    394\u001b[0m     \u001b[38;5;66;03m# Newton-Raphson iteration\u001b[39;00m\n\u001b[1;32m    395\u001b[0m     eps \u001b[38;5;241m=\u001b[39m eps0\n\u001b[0;32m--> 396\u001b[0m     s \u001b[38;5;241m=\u001b[39m \u001b[43msect\u001b[49m\u001b[38;5;241;43m.\u001b[39;49m\u001b[43mgetStressResultant\u001b[49m([eps, kap], \u001b[38;5;28;01mFalse\u001b[39;00m)\n\u001b[1;32m    397\u001b[0m     \u001b[38;5;28;01mfor\u001b[39;00m i \u001b[38;5;129;01min\u001b[39;00m \u001b[38;5;28mrange\u001b[39m(maxiter):\n\u001b[1;32m    398\u001b[0m         \u001b[38;5;28;01mif\u001b[39;00m \u001b[38;5;28mabs\u001b[39m(s[\u001b[38;5;241m0\u001b[39m] \u001b[38;5;241m-\u001b[39m axial) \u001b[38;5;241m<\u001b[39m tol:\n",
      "\u001b[0;31mAttributeError\u001b[0m: 'NoneType' object has no attribute 'getStressResultant'"
     ]
    },
    {
     "data": {
      "image/png": "[encoded data removed]",
      "text/plain": [
       "<Figure size 640x480 with 2 Axes>"
      ]
     },
     "metadata": {},
     "output_type": "display_data"
    }
   ],
   "source": [
    "section.MomentAxialLocus(column_reinf_section, axial=np.linspace(1000000, -12000000, 15)).analyze()"
   ]
  },
  {
   "cell_type": "code",
   "execution_count": null,
   "id": "2a72b900-ce7f-4fa8-8438-5dd9d6b89006",
   "metadata": {},
   "outputs": [],
   "source": []
  }
 ],
 "metadata": {
  "kernelspec": {
   "display_name": "Mamba-39",
   "language": "python",
   "name": "mamba-py39"
  },
  "language_info": {
   "codemirror_mode": {
    "name": "ipython",
    "version": 3
   },
   "file_extension": ".py",
   "mimetype": "text/x-python",
   "name": "python",
   "nbconvert_exporter": "python",
   "pygments_lexer": "ipython3",
   "version": "3.9.16"
  }
 },
 "nbformat": 4,
 "nbformat_minor": 5
}
